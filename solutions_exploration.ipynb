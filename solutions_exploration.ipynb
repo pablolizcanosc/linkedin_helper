{
 "cells": [
  {
   "cell_type": "code",
   "execution_count": 1,
   "metadata": {},
   "outputs": [],
   "source": [
    "import bs4\n",
    "from bs4 import BeautifulSoup\n",
    "from selenium import webdriver\n",
    "from selenium.webdriver.common.by import By\n",
    "import time\n",
    "\n",
    "url = 'https://www.linkedin.com/jobs/view/3331085964/?alternateChannel=search&refId=7U624yHPY2NYK6XeiNch8g%3D%3D&trackingId=iTJP3LR2ymAdSC8wbvFQBw%3D%3D'\n",
    "\n",
    "\n",
    "def parse_html(html):\n",
    "    #https://stackoverflow.com/questions/14694482/converting-html-to-text-with-python\n",
    "    elem = BeautifulSoup(html, features=\"html.parser\")\n",
    "    text = ''\n",
    "    for e in elem.descendants:\n",
    "        if isinstance(e, str):\n",
    "            text += e.strip()+\" \"\n",
    "        elif e.name in ['br',  'p', 'h1', 'h2', 'h3', 'h4','tr', 'th']:\n",
    "            text += '\\n'\n",
    "        elif e.name == 'li':\n",
    "            text += '\\n- '\n",
    "    return text\n",
    "\n",
    "def extract_raw_info(url):\n",
    "    #https://stackoverflow.com/questions/65973802/scraping-linkedin-job-requirements\n",
    "    driver = webdriver.Chrome()\n",
    "    driver.get(url)\n",
    "    driver.find_element(By.XPATH,'//*[@id=\"main-content\"]/section[1]/div/section[2]/div/a/img')\n",
    "    title = driver.find_element(By.XPATH,'//*[@id=\"main-content\"]/section[1]/div/section[2]/div/div[1]/div/h1').text\n",
    "    seniority = driver.find_element(By.XPATH,'//*[@id=\"main-content\"]/section[1]/div/div/section[1]/div/ul/li[1]/span').text\n",
    "    employment_type = driver.find_element(By.XPATH,'//*[@id=\"main-content\"]/section[1]/div/div/section[1]/div/ul/li[2]/span').text\n",
    "    job_function = driver.find_element(By.XPATH,'//*[@id=\"main-content\"]/section[1]/div/div/section[1]/div/ul/li[3]/span').text\n",
    "    company = driver.find_element(By.XPATH,'//*[@id=\"main-content\"]/section[1]/div/section[2]/div/div[1]/div/h4/div[1]/span[1]/a').text\n",
    "    location = driver.find_element(By.XPATH,'//*[@id=\"main-content\"]/section[1]/div/section[2]/div/div[1]/div/h4/div[1]/span[2]').text\n",
    "    #Find the job description\n",
    "    job_desc_element = driver.find_element(By.XPATH,'//div[@class=\"show-more-less-html__markup show-more-less-html__markup--clamp-after-5\"]')\n",
    "    #Get the html of the element and pass into BeautifulSoup parser\n",
    "    html_job_desc = job_desc_element.get_attribute('outerHTML')\n",
    "    job_desc = parse_html(html_job_desc)\n",
    "\n",
    "\n",
    "    driver.find_element(By.XPATH,'//*[@id=\"main-content\"]/section[1]/div/section[2]/div/a/img').click()\n",
    "    time.sleep( 3 )\n",
    "    driver.find_element(By.XPATH,'//*[@id=\"contextual-sign-in\"]/div/section/button').click()\n",
    "    time.sleep( 3 )\n",
    "    company_size = driver.find_element(By.XPATH,'//*[@id=\"main-content\"]/section[1]/div/section[1]/div/dl/div[3]/dd').text\n",
    "    specialties = driver.find_element(By.XPATH,'//*[@id=\"main-content\"]/section[1]/div/section[1]/div/dl/div[7]/dd').text\n",
    "    company_desc_element = driver.find_element(By.XPATH,'//*[@id=\"main-content\"]/section[1]/div/section[1]/div/p')\n",
    "    html_company_desc = company_desc_element.get_attribute('outerHTML')\n",
    "    company_desc = parse_html(html_company_desc)\n",
    "\n",
    "\n",
    "    return {\"position_details\":{\"title\":title,\"seniority\":seniority,\"employment_type\":employment_type,\"job_function\":job_function,\"location\":location,\"job_desc\":job_desc},\\\n",
    "        \"company_details\":{\"company_name\":company,\"company_size\":company_size, \"specialties\":specialties,\"company_desc\":company_desc}}\n"
   ]
  },
  {
   "cell_type": "code",
   "execution_count": 2,
   "metadata": {},
   "outputs": [],
   "source": [
    "raw_info = extract_raw_info(url)"
   ]
  },
  {
   "cell_type": "markdown",
   "metadata": {},
   "source": [
    "# QA with deepset/roberta-base-squad2"
   ]
  },
  {
   "cell_type": "code",
   "execution_count": 3,
   "metadata": {},
   "outputs": [
    {
     "name": "stderr",
     "output_type": "stream",
     "text": [
      "c:\\Users\\pablo\\Documents\\DS_projects\\_aux_files\\ds_environment\\env\\ds_environment\\lib\\site-packages\\tqdm\\auto.py:22: TqdmWarning: IProgress not found. Please update jupyter and ipywidgets. See https://ipywidgets.readthedocs.io/en/stable/user_install.html\n",
      "  from .autonotebook import tqdm as notebook_tqdm\n",
      "All model checkpoint layers were used when initializing TFRobertaForQuestionAnswering.\n",
      "\n",
      "All the layers of TFRobertaForQuestionAnswering were initialized from the model checkpoint at deepset/roberta-base-squad2.\n",
      "If your task is similar to the task the model of the checkpoint was trained on, you can already use TFRobertaForQuestionAnswering for predictions without further training.\n"
     ]
    }
   ],
   "source": [
    "from transformers import pipeline\n",
    "\n",
    "model_checkpoint = \"deepset/roberta-base-squad2\"\n",
    "question_answerer = pipeline(\"question-answering\", model=model_checkpoint)\n"
   ]
  },
  {
   "cell_type": "markdown",
   "metadata": {},
   "source": [
    "Question 1c: Product or service offered?"
   ]
  },
  {
   "cell_type": "code",
   "execution_count": 4,
   "metadata": {},
   "outputs": [
    {
     "data": {
      "text/plain": [
       "{'score': 0.06878691166639328,\n",
       " 'start': 1,\n",
       " 'end': 56,\n",
       " 'answer': 'Qonto is the leading European business finance solution'}"
      ]
     },
     "execution_count": 4,
     "metadata": {},
     "output_type": "execute_result"
    }
   ],
   "source": [
    "question_answerer(question = \"What is this company's product?\", context = raw_info[\"company_details\"][\"company_desc\"])"
   ]
  },
  {
   "cell_type": "code",
   "execution_count": 5,
   "metadata": {},
   "outputs": [
    {
     "data": {
      "text/plain": [
       "{'score': 0.00385591690428555,\n",
       " 'start': 315,\n",
       " 'end': 333,\n",
       " 'answer': '900 happy Qontoers'}"
      ]
     },
     "execution_count": 5,
     "metadata": {},
     "output_type": "execute_result"
    }
   ],
   "source": [
    "question_answerer(question = \"What has the company created?\", context = raw_info[\"company_details\"][\"company_desc\"])"
   ]
  },
  {
   "cell_type": "code",
   "execution_count": 6,
   "metadata": {},
   "outputs": [
    {
     "data": {
      "text/plain": [
       "{'score': 0.14269354939460754,\n",
       " 'start': 61,\n",
       " 'end': 155,\n",
       " 'answer': 'simplifies everything from everyday banking and financing, to bookkeeping and spend management'}"
      ]
     },
     "execution_count": 6,
     "metadata": {},
     "output_type": "execute_result"
    }
   ],
   "source": [
    "question_answerer(question = \"What does the company do?\", context = raw_info[\"company_details\"][\"company_desc\"])"
   ]
  },
  {
   "cell_type": "code",
   "execution_count": 7,
   "metadata": {},
   "outputs": [
    {
     "data": {
      "text/plain": [
       "{'score': 0.07931458204984665,\n",
       " 'start': 163,\n",
       " 'end': 193,\n",
       " 'answer': 'energizes SMEs and freelancers'}"
      ]
     },
     "execution_count": 7,
     "metadata": {},
     "output_type": "execute_result"
    }
   ],
   "source": [
    "question_answerer(question = \"What is the company doing?\", context = raw_info[\"company_details\"][\"company_desc\"])"
   ]
  },
  {
   "cell_type": "markdown",
   "metadata": {},
   "source": [
    "Question 1d: number of customers or users"
   ]
  },
  {
   "cell_type": "code",
   "execution_count": 8,
   "metadata": {},
   "outputs": [
    {
     "data": {
      "text/plain": [
       "{'score': 0.4971333146095276,\n",
       " 'start': 173,\n",
       " 'end': 193,\n",
       " 'answer': 'SMEs and freelancers'}"
      ]
     },
     "execution_count": 8,
     "metadata": {},
     "output_type": "execute_result"
    }
   ],
   "source": [
    "question_answerer(question = \"Who uses this product?\", context = raw_info[\"company_details\"][\"company_desc\"])"
   ]
  },
  {
   "cell_type": "code",
   "execution_count": 9,
   "metadata": {},
   "outputs": [
    {
     "data": {
      "text/plain": [
       "{'score': 0.008943535387516022, 'start': 315, 'end': 318, 'answer': '900'}"
      ]
     },
     "execution_count": 9,
     "metadata": {},
     "output_type": "execute_result"
    }
   ],
   "source": [
    "question_answerer(question = \"How many clients does the company have?\", context = raw_info[\"company_details\"][\"company_desc\"])"
   ]
  },
  {
   "cell_type": "code",
   "execution_count": 10,
   "metadata": {},
   "outputs": [
    {
     "data": {
      "text/plain": [
       "{'score': 0.00943956058472395, 'start': 361, 'end': 368, 'answer': '300,000'}"
      ]
     },
     "execution_count": 10,
     "metadata": {},
     "output_type": "execute_result"
    }
   ],
   "source": [
    "question_answerer(question = \"How many SMEs and freelancers use the product?\", context = raw_info[\"company_details\"][\"company_desc\"])"
   ]
  },
  {
   "cell_type": "code",
   "execution_count": 11,
   "metadata": {},
   "outputs": [
    {
     "data": {
      "text/plain": [
       "{'score': 0.5219732522964478, 'start': 361, 'end': 368, 'answer': '300,000'}"
      ]
     },
     "execution_count": 11,
     "metadata": {},
     "output_type": "execute_result"
    }
   ],
   "source": [
    "question_answerer(question = \"How many companies use the product?\", context = raw_info[\"company_details\"][\"company_desc\"])"
   ]
  },
  {
   "cell_type": "code",
   "execution_count": 12,
   "metadata": {},
   "outputs": [
    {
     "data": {
      "text/plain": [
       "{'score': 0.024822494015097618, 'start': 361, 'end': 368, 'answer': '300,000'}"
      ]
     },
     "execution_count": 12,
     "metadata": {},
     "output_type": "execute_result"
    }
   ],
   "source": [
    "question_answerer(question = \"How many people use the product?\", context = raw_info[\"company_details\"][\"company_desc\"])"
   ]
  },
  {
   "cell_type": "code",
   "execution_count": 13,
   "metadata": {},
   "outputs": [
    {
     "data": {
      "text/plain": [
       "{'score': 0.037519294768571854, 'start': 315, 'end': 318, 'answer': '900'}"
      ]
     },
     "execution_count": 13,
     "metadata": {},
     "output_type": "execute_result"
    }
   ],
   "source": [
    "question_answerer(question = \"How many customers use the product?\", context = raw_info[\"company_details\"][\"company_desc\"])"
   ]
  },
  {
   "cell_type": "markdown",
   "metadata": {},
   "source": [
    "Question 1f: The company's position in the market and its growth"
   ]
  },
  {
   "cell_type": "code",
   "execution_count": 14,
   "metadata": {},
   "outputs": [
    {
     "data": {
      "text/plain": [
       "{'score': 0.00021318308426998556,\n",
       " 'start': 315,\n",
       " 'end': 333,\n",
       " 'answer': '900 happy Qontoers'}"
      ]
     },
     "execution_count": 14,
     "metadata": {},
     "output_type": "execute_result"
    }
   ],
   "source": [
    "question_answerer(question = \"How much is the company growing?\", context = raw_info[\"company_details\"][\"company_desc\"])"
   ]
  },
  {
   "cell_type": "code",
   "execution_count": 15,
   "metadata": {},
   "outputs": [
    {
     "data": {
      "text/plain": [
       "{'score': 0.020363856106996536,\n",
       " 'start': 14,\n",
       " 'end': 56,\n",
       " 'answer': 'leading European business finance solution'}"
      ]
     },
     "execution_count": 15,
     "metadata": {},
     "output_type": "execute_result"
    }
   ],
   "source": [
    "question_answerer(question = \"What is the position of this company in the market?\", context = raw_info[\"company_details\"][\"company_desc\"])"
   ]
  },
  {
   "cell_type": "markdown",
   "metadata": {},
   "source": [
    "Question 2.a.iii: Team composition"
   ]
  },
  {
   "cell_type": "code",
   "execution_count": 16,
   "metadata": {},
   "outputs": [
    {
     "data": {
      "text/plain": [
       "{'score': 0.06472492963075638,\n",
       " 'start': 5526,\n",
       " 'end': 5552,\n",
       " 'answer': '44% of our teams are women'}"
      ]
     },
     "execution_count": 16,
     "metadata": {},
     "output_type": "execute_result"
    }
   ],
   "source": [
    "question_answerer(question = \"What is the composition of the team?\", context = raw_info[\"position_details\"][\"job_desc\"])"
   ]
  },
  {
   "cell_type": "code",
   "execution_count": 17,
   "metadata": {},
   "outputs": [
    {
     "data": {
      "text/plain": [
       "{'score': 0.0012040950823575258, 'start': 6194, 'end': 6195, 'answer': '\\n'}"
      ]
     },
     "execution_count": 17,
     "metadata": {},
     "output_type": "execute_result"
    }
   ],
   "source": [
    "question_answerer(question = \"Is it a homogeneous team or a multidisciplinary one?\", context = raw_info[\"position_details\"][\"job_desc\"])"
   ]
  },
  {
   "cell_type": "markdown",
   "metadata": {},
   "source": [
    "Question 2.b.ii: Required education"
   ]
  },
  {
   "cell_type": "code",
   "execution_count": 18,
   "metadata": {},
   "outputs": [
    {
     "data": {
      "text/plain": [
       "{'score': 0.0020310021936893463,\n",
       " 'start': 2321,\n",
       " 'end': 2346,\n",
       " 'answer': 'Machine Learning Engineer'}"
      ]
     },
     "execution_count": 18,
     "metadata": {},
     "output_type": "execute_result"
    }
   ],
   "source": [
    "question_answerer(question = \"Which university degree is required?\", context = raw_info[\"position_details\"][\"job_desc\"])"
   ]
  },
  {
   "cell_type": "markdown",
   "metadata": {},
   "source": [
    "Question 2.b.iii: Technologies"
   ]
  },
  {
   "cell_type": "code",
   "execution_count": 19,
   "metadata": {},
   "outputs": [
    {
     "data": {
      "text/plain": [
       "{'score': 0.2049625664949417, 'start': 4696, 'end': 4703, 'answer': 'English'}"
      ]
     },
     "execution_count": 19,
     "metadata": {},
     "output_type": "execute_result"
    }
   ],
   "source": [
    "question_answerer(question = \"Which programming language is required?\", context = raw_info[\"position_details\"][\"job_desc\"])"
   ]
  },
  {
   "cell_type": "code",
   "execution_count": 20,
   "metadata": {},
   "outputs": [
    {
     "data": {
      "text/plain": [
       "{'score': 0.007333592977374792,\n",
       " 'start': 2120,\n",
       " 'end': 2136,\n",
       " 'answer': 'Machine Learning'}"
      ]
     },
     "execution_count": 20,
     "metadata": {},
     "output_type": "execute_result"
    }
   ],
   "source": [
    "question_answerer(question = \"Which disciplines are used: Statistics, Machine Learning or Deep Learning?\", context = raw_info[\"position_details\"][\"job_desc\"])"
   ]
  },
  {
   "cell_type": "code",
   "execution_count": 21,
   "metadata": {},
   "outputs": [
    {
     "data": {
      "text/plain": [
       "{'score': 0.000983073958195746,\n",
       " 'start': 4237,\n",
       " 'end': 4273,\n",
       " 'answer': 'Scikit-learn, Tensorflow, or Pytorch'}"
      ]
     },
     "execution_count": 21,
     "metadata": {},
     "output_type": "execute_result"
    }
   ],
   "source": [
    "question_answerer(question = \"What other technologies are used?\", context = raw_info[\"position_details\"][\"job_desc\"])"
   ]
  },
  {
   "cell_type": "code",
   "execution_count": 22,
   "metadata": {},
   "outputs": [
    {
     "data": {
      "text/plain": [
       "{'score': 0.0012592421844601631, 'start': 3501, 'end': 3506, 'answer': 'Simon'}"
      ]
     },
     "execution_count": 22,
     "metadata": {},
     "output_type": "execute_result"
    }
   ],
   "source": [
    "question_answerer(question = \"What technologies are used?\", context = raw_info[\"position_details\"][\"job_desc\"])"
   ]
  },
  {
   "cell_type": "markdown",
   "metadata": {},
   "source": [
    "Question 2.b.iv: Required soft skills"
   ]
  },
  {
   "cell_type": "code",
   "execution_count": 23,
   "metadata": {},
   "outputs": [
    {
     "data": {
      "text/plain": [
       "{'score': 0.0031710718758404255,\n",
       " 'start': 4496,\n",
       " 'end': 4509,\n",
       " 'answer': 'Communication'}"
      ]
     },
     "execution_count": 23,
     "metadata": {},
     "output_type": "execute_result"
    }
   ],
   "source": [
    "question_answerer(question = \"What soft skills are required?\", context = raw_info[\"position_details\"][\"job_desc\"])"
   ]
  },
  {
   "cell_type": "markdown",
   "metadata": {},
   "source": [
    "Question 2.b.v: Languages"
   ]
  },
  {
   "cell_type": "code",
   "execution_count": 24,
   "metadata": {},
   "outputs": [
    {
     "data": {
      "text/plain": [
       "{'score': 0.18970327079296112, 'start': 4696, 'end': 4703, 'answer': 'English'}"
      ]
     },
     "execution_count": 24,
     "metadata": {},
     "output_type": "execute_result"
    }
   ],
   "source": [
    "question_answerer(question = \"What languages are required?\", context = raw_info[\"position_details\"][\"job_desc\"])"
   ]
  },
  {
   "cell_type": "markdown",
   "metadata": {},
   "source": [
    "Question 2.c.ii: Remote working and flexibility"
   ]
  },
  {
   "cell_type": "code",
   "execution_count": 25,
   "metadata": {},
   "outputs": [
    {
     "data": {
      "text/plain": [
       "{'score': 0.0015343816485255957,\n",
       " 'start': 1050,\n",
       " 'end': 1059,\n",
       " 'answer': '\\nTeamwork'}"
      ]
     },
     "execution_count": 25,
     "metadata": {},
     "output_type": "execute_result"
    }
   ],
   "source": [
    "question_answerer(question = \"Is there a rigid work schedule or flexible working hours?\", context = raw_info[\"position_details\"][\"job_desc\"])"
   ]
  },
  {
   "cell_type": "code",
   "execution_count": 26,
   "metadata": {},
   "outputs": [
    {
     "data": {
      "text/plain": [
       "{'score': 0.014793108217418194,\n",
       " 'start': 2120,\n",
       " 'end': 2145,\n",
       " 'answer': 'Machine Learning Engineer'}"
      ]
     },
     "execution_count": 26,
     "metadata": {},
     "output_type": "execute_result"
    }
   ],
   "source": [
    "question_answerer(question = \"Is it an in-office position or a remote position?\", context = raw_info[\"position_details\"][\"job_desc\"])"
   ]
  },
  {
   "cell_type": "markdown",
   "metadata": {},
   "source": [
    "Question 2.c.iii: Salary"
   ]
  },
  {
   "cell_type": "code",
   "execution_count": 27,
   "metadata": {},
   "outputs": [
    {
     "data": {
      "text/plain": [
       "{'score': 0.007247203961014748,\n",
       " 'start': 2321,\n",
       " 'end': 2346,\n",
       " 'answer': 'Machine Learning Engineer'}"
      ]
     },
     "execution_count": 27,
     "metadata": {},
     "output_type": "execute_result"
    }
   ],
   "source": [
    "question_answerer(question = \"What is the salary for this position?\", context = raw_info[\"position_details\"][\"job_desc\"])"
   ]
  },
  {
   "cell_type": "markdown",
   "metadata": {},
   "source": [
    "Question 2.c.iv: Holidays"
   ]
  },
  {
   "cell_type": "code",
   "execution_count": 28,
   "metadata": {},
   "outputs": [
    {
     "data": {
      "text/plain": [
       "{'score': 0.15390053391456604, 'start': 5250, 'end': 5252, 'answer': '22'}"
      ]
     },
     "execution_count": 28,
     "metadata": {},
     "output_type": "execute_result"
    }
   ],
   "source": [
    "question_answerer(question = \"How many days of paid leave are offered?\", context = raw_info[\"position_details\"][\"job_desc\"])"
   ]
  },
  {
   "cell_type": "markdown",
   "metadata": {},
   "source": [
    "Question 2.c.iv: Benefits"
   ]
  },
  {
   "cell_type": "code",
   "execution_count": 29,
   "metadata": {},
   "outputs": [
    {
     "data": {
      "text/plain": [
       "{'score': 0.14566805958747864,\n",
       " 'start': 5296,\n",
       " 'end': 5322,\n",
       " 'answer': 'Fondo Est health insurance'}"
      ]
     },
     "execution_count": 29,
     "metadata": {},
     "output_type": "execute_result"
    }
   ],
   "source": [
    "question_answerer(question = \"Which insurance is included?\", context = raw_info[\"position_details\"][\"job_desc\"])"
   ]
  },
  {
   "cell_type": "code",
   "execution_count": 30,
   "metadata": {},
   "outputs": [
    {
     "data": {
      "text/plain": [
       "{'score': 0.02142578549683094,\n",
       " 'start': 3319,\n",
       " 'end': 3338,\n",
       " 'answer': 'supporting teamwork'}"
      ]
     },
     "execution_count": 30,
     "metadata": {},
     "output_type": "execute_result"
    }
   ],
   "source": [
    "question_answerer(question = \"What other benefits does the company offer to its employees?\", context = raw_info[\"position_details\"][\"job_desc\"])"
   ]
  },
  {
   "cell_type": "markdown",
   "metadata": {},
   "source": [
    "# Named entity recognition"
   ]
  },
  {
   "cell_type": "code",
   "execution_count": 31,
   "metadata": {},
   "outputs": [],
   "source": [
    "import spacy\n",
    "import pandas as pd\n",
    "\n",
    "nlp = spacy.load(\"en_core_web_lg\")"
   ]
  },
  {
   "cell_type": "code",
   "execution_count": 32,
   "metadata": {},
   "outputs": [],
   "source": [
    "\n",
    "doc = nlp(raw_info[\"position_details\"][\"job_desc\"])\n",
    "list_ent = []\n",
    "list_label = []\n",
    "for ent in doc.ents:\n",
    "    list_ent.append(ent.text)\n",
    "    list_label.append(ent.label_)\n",
    "all_entities = pd.DataFrame({\"entity\":list_ent,\"label\":list_label}).drop_duplicates()"
   ]
  },
  {
   "cell_type": "code",
   "execution_count": 33,
   "metadata": {},
   "outputs": [
    {
     "data": {
      "text/html": [
       "<div>\n",
       "<style scoped>\n",
       "    .dataframe tbody tr th:only-of-type {\n",
       "        vertical-align: middle;\n",
       "    }\n",
       "\n",
       "    .dataframe tbody tr th {\n",
       "        vertical-align: top;\n",
       "    }\n",
       "\n",
       "    .dataframe thead th {\n",
       "        text-align: right;\n",
       "    }\n",
       "</style>\n",
       "<table border=\"1\" class=\"dataframe\">\n",
       "  <thead>\n",
       "    <tr style=\"text-align: right;\">\n",
       "      <th></th>\n",
       "      <th>entity</th>\n",
       "      <th>label</th>\n",
       "    </tr>\n",
       "  </thead>\n",
       "  <tbody>\n",
       "    <tr>\n",
       "      <th>5</th>\n",
       "      <td>SME</td>\n",
       "      <td>ORG</td>\n",
       "    </tr>\n",
       "    <tr>\n",
       "      <th>15</th>\n",
       "      <td>Penta</td>\n",
       "      <td>ORG</td>\n",
       "    </tr>\n",
       "    <tr>\n",
       "      <th>18</th>\n",
       "      <td>Qontoers</td>\n",
       "      <td>PRODUCT</td>\n",
       "    </tr>\n",
       "    <tr>\n",
       "      <th>21</th>\n",
       "      <td>Data Engineers</td>\n",
       "      <td>ORG</td>\n",
       "    </tr>\n",
       "    <tr>\n",
       "      <th>22</th>\n",
       "      <td>BI</td>\n",
       "      <td>ORG</td>\n",
       "    </tr>\n",
       "    <tr>\n",
       "      <th>23</th>\n",
       "      <td>Data Scientists</td>\n",
       "      <td>ORG</td>\n",
       "    </tr>\n",
       "    <tr>\n",
       "      <th>24</th>\n",
       "      <td>Machine Learning Engineers</td>\n",
       "      <td>ORG</td>\n",
       "    </tr>\n",
       "    <tr>\n",
       "      <th>26</th>\n",
       "      <td>Data Products</td>\n",
       "      <td>ORG</td>\n",
       "    </tr>\n",
       "    <tr>\n",
       "      <th>27</th>\n",
       "      <td>⭐</td>\n",
       "      <td>NORP</td>\n",
       "    </tr>\n",
       "    <tr>\n",
       "      <th>32</th>\n",
       "      <td>AI/ML</td>\n",
       "      <td>ORG</td>\n",
       "    </tr>\n",
       "    <tr>\n",
       "      <th>35</th>\n",
       "      <td>Machine Learning Engineer</td>\n",
       "      <td>ORG</td>\n",
       "    </tr>\n",
       "    <tr>\n",
       "      <th>36</th>\n",
       "      <td>Qonto</td>\n",
       "      <td>ORG</td>\n",
       "    </tr>\n",
       "    <tr>\n",
       "      <th>40</th>\n",
       "      <td>millions of euros</td>\n",
       "      <td>MONEY</td>\n",
       "    </tr>\n",
       "    <tr>\n",
       "      <th>49</th>\n",
       "      <td>Tech</td>\n",
       "      <td>ORG</td>\n",
       "    </tr>\n",
       "    <tr>\n",
       "      <th>51</th>\n",
       "      <td>🤝</td>\n",
       "      <td>NORP</td>\n",
       "    </tr>\n",
       "    <tr>\n",
       "      <th>54</th>\n",
       "      <td>ManoMano &amp; Kapten</td>\n",
       "      <td>ORG</td>\n",
       "    </tr>\n",
       "    <tr>\n",
       "      <th>55</th>\n",
       "      <td>Data Science</td>\n",
       "      <td>ORG</td>\n",
       "    </tr>\n",
       "    <tr>\n",
       "      <th>58</th>\n",
       "      <td>Machine Learning</td>\n",
       "      <td>ORG</td>\n",
       "    </tr>\n",
       "    <tr>\n",
       "      <th>59</th>\n",
       "      <td>Pandas</td>\n",
       "      <td>PRODUCT</td>\n",
       "    </tr>\n",
       "    <tr>\n",
       "      <th>60</th>\n",
       "      <td>Tensorflow</td>\n",
       "      <td>PRODUCT</td>\n",
       "    </tr>\n",
       "    <tr>\n",
       "      <th>61</th>\n",
       "      <td>Pytorch</td>\n",
       "      <td>ORG</td>\n",
       "    </tr>\n",
       "    <tr>\n",
       "      <th>63</th>\n",
       "      <td>English</td>\n",
       "      <td>LANGUAGE</td>\n",
       "    </tr>\n",
       "    <tr>\n",
       "      <th>64</th>\n",
       "      <td>Office &amp; Team Life \\n\\n- A</td>\n",
       "      <td>ORG</td>\n",
       "    </tr>\n",
       "    <tr>\n",
       "      <th>65</th>\n",
       "      <td>Milan Duomo</td>\n",
       "      <td>ORG</td>\n",
       "    </tr>\n",
       "    <tr>\n",
       "      <th>66</th>\n",
       "      <td>WeWork</td>\n",
       "      <td>ORG</td>\n",
       "    </tr>\n",
       "    <tr>\n",
       "      <th>67</th>\n",
       "      <td>Apple</td>\n",
       "      <td>ORG</td>\n",
       "    </tr>\n",
       "    <tr>\n",
       "      <th>73</th>\n",
       "      <td>Moka Care</td>\n",
       "      <td>ORG</td>\n",
       "    </tr>\n",
       "    <tr>\n",
       "      <th>74</th>\n",
       "      <td>Urban Sports Club</td>\n",
       "      <td>ORG</td>\n",
       "    </tr>\n",
       "    <tr>\n",
       "      <th>78</th>\n",
       "      <td>Busuu</td>\n",
       "      <td>NORP</td>\n",
       "    </tr>\n",
       "    <tr>\n",
       "      <th>86</th>\n",
       "      <td>Huffington Post</td>\n",
       "      <td>ORG</td>\n",
       "    </tr>\n",
       "  </tbody>\n",
       "</table>\n",
       "</div>"
      ],
      "text/plain": [
       "                        entity     label\n",
       "5                          SME       ORG\n",
       "15                       Penta       ORG\n",
       "18                    Qontoers   PRODUCT\n",
       "21              Data Engineers       ORG\n",
       "22                          BI       ORG\n",
       "23             Data Scientists       ORG\n",
       "24  Machine Learning Engineers       ORG\n",
       "26               Data Products       ORG\n",
       "27                           ⭐      NORP\n",
       "32                       AI/ML       ORG\n",
       "35   Machine Learning Engineer       ORG\n",
       "36                       Qonto       ORG\n",
       "40           millions of euros     MONEY\n",
       "49                        Tech       ORG\n",
       "51                           🤝      NORP\n",
       "54           ManoMano & Kapten       ORG\n",
       "55                Data Science       ORG\n",
       "58            Machine Learning       ORG\n",
       "59                      Pandas   PRODUCT\n",
       "60                  Tensorflow   PRODUCT\n",
       "61                     Pytorch       ORG\n",
       "63                     English  LANGUAGE\n",
       "64  Office & Team Life \\n\\n- A       ORG\n",
       "65                 Milan Duomo       ORG\n",
       "66                      WeWork       ORG\n",
       "67                       Apple       ORG\n",
       "73                   Moka Care       ORG\n",
       "74           Urban Sports Club       ORG\n",
       "78                       Busuu      NORP\n",
       "86             Huffington Post       ORG"
      ]
     },
     "execution_count": 33,
     "metadata": {},
     "output_type": "execute_result"
    }
   ],
   "source": [
    "all_entities[all_entities[\"label\"].isin([\"PERSON\",\"DATE\",\"TIME\",\"CARDINAL\",\"GPE\", \"PERCENT\",\"LOC\",\"ORDINAL\"])==False]"
   ]
  },
  {
   "cell_type": "code",
   "execution_count": 34,
   "metadata": {},
   "outputs": [
    {
     "data": {
      "text/html": [
       "<div>\n",
       "<style scoped>\n",
       "    .dataframe tbody tr th:only-of-type {\n",
       "        vertical-align: middle;\n",
       "    }\n",
       "\n",
       "    .dataframe tbody tr th {\n",
       "        vertical-align: top;\n",
       "    }\n",
       "\n",
       "    .dataframe thead th {\n",
       "        text-align: right;\n",
       "    }\n",
       "</style>\n",
       "<table border=\"1\" class=\"dataframe\">\n",
       "  <thead>\n",
       "    <tr style=\"text-align: right;\">\n",
       "      <th></th>\n",
       "      <th>entity</th>\n",
       "      <th>label</th>\n",
       "    </tr>\n",
       "  </thead>\n",
       "  <tbody>\n",
       "    <tr>\n",
       "      <th>4</th>\n",
       "      <td>July 2017</td>\n",
       "      <td>DATE</td>\n",
       "    </tr>\n",
       "    <tr>\n",
       "      <th>7</th>\n",
       "      <td>300,000</td>\n",
       "      <td>CARDINAL</td>\n",
       "    </tr>\n",
       "    <tr>\n",
       "      <th>9</th>\n",
       "      <td>10</td>\n",
       "      <td>CARDINAL</td>\n",
       "    </tr>\n",
       "    <tr>\n",
       "      <th>20</th>\n",
       "      <td>55</td>\n",
       "      <td>CARDINAL</td>\n",
       "    </tr>\n",
       "    <tr>\n",
       "      <th>33</th>\n",
       "      <td>dozens</td>\n",
       "      <td>CARDINAL</td>\n",
       "    </tr>\n",
       "    <tr>\n",
       "      <th>45</th>\n",
       "      <td>one million</td>\n",
       "      <td>CARDINAL</td>\n",
       "    </tr>\n",
       "    <tr>\n",
       "      <th>46</th>\n",
       "      <td>2025</td>\n",
       "      <td>DATE</td>\n",
       "    </tr>\n",
       "    <tr>\n",
       "      <th>62</th>\n",
       "      <td>first</td>\n",
       "      <td>ORDINAL</td>\n",
       "    </tr>\n",
       "    <tr>\n",
       "      <th>68</th>\n",
       "      <td>Monthly</td>\n",
       "      <td>DATE</td>\n",
       "    </tr>\n",
       "    <tr>\n",
       "      <th>70</th>\n",
       "      <td>22 days</td>\n",
       "      <td>DATE</td>\n",
       "    </tr>\n",
       "    <tr>\n",
       "      <th>71</th>\n",
       "      <td>hours</td>\n",
       "      <td>TIME</td>\n",
       "    </tr>\n",
       "    <tr>\n",
       "      <th>72</th>\n",
       "      <td>4 days</td>\n",
       "      <td>DATE</td>\n",
       "    </tr>\n",
       "    <tr>\n",
       "      <th>75</th>\n",
       "      <td>50%</td>\n",
       "      <td>PERCENT</td>\n",
       "    </tr>\n",
       "    <tr>\n",
       "      <th>76</th>\n",
       "      <td>44%</td>\n",
       "      <td>PERCENT</td>\n",
       "    </tr>\n",
       "    <tr>\n",
       "      <th>77</th>\n",
       "      <td>60</td>\n",
       "      <td>CARDINAL</td>\n",
       "    </tr>\n",
       "    <tr>\n",
       "      <th>79</th>\n",
       "      <td>60 min</td>\n",
       "      <td>TIME</td>\n",
       "    </tr>\n",
       "    <tr>\n",
       "      <th>83</th>\n",
       "      <td>20 working days</td>\n",
       "      <td>DATE</td>\n",
       "    </tr>\n",
       "    <tr>\n",
       "      <th>84</th>\n",
       "      <td>48 hours</td>\n",
       "      <td>TIME</td>\n",
       "    </tr>\n",
       "  </tbody>\n",
       "</table>\n",
       "</div>"
      ],
      "text/plain": [
       "             entity     label\n",
       "4         July 2017      DATE\n",
       "7           300,000  CARDINAL\n",
       "9                10  CARDINAL\n",
       "20               55  CARDINAL\n",
       "33           dozens  CARDINAL\n",
       "45      one million  CARDINAL\n",
       "46             2025      DATE\n",
       "62            first   ORDINAL\n",
       "68          Monthly      DATE\n",
       "70          22 days      DATE\n",
       "71            hours      TIME\n",
       "72           4 days      DATE\n",
       "75              50%   PERCENT\n",
       "76              44%   PERCENT\n",
       "77               60  CARDINAL\n",
       "79           60 min      TIME\n",
       "83  20 working days      DATE\n",
       "84         48 hours      TIME"
      ]
     },
     "execution_count": 34,
     "metadata": {},
     "output_type": "execute_result"
    }
   ],
   "source": [
    "all_entities[all_entities[\"label\"].isin([\"DATE\",\"TIME\",\"CARDINAL\", \"PERCENT\",\"ORDINAL\"])]"
   ]
  },
  {
   "cell_type": "code",
   "execution_count": null,
   "metadata": {},
   "outputs": [],
   "source": []
  }
 ],
 "metadata": {
  "interpreter": {
   "hash": "c97ecce26dba7aa90227e588081333bc7652aa1975e94a4913f86dbf4aaf30d8"
  },
  "kernelspec": {
   "display_name": "Python 3.10.7 ('ds_environment': venv)",
   "language": "python",
   "name": "python3"
  },
  "language_info": {
   "codemirror_mode": {
    "name": "ipython",
    "version": 3
   },
   "file_extension": ".py",
   "mimetype": "text/x-python",
   "name": "python",
   "nbconvert_exporter": "python",
   "pygments_lexer": "ipython3",
   "version": "3.10.7"
  },
  "orig_nbformat": 4
 },
 "nbformat": 4,
 "nbformat_minor": 2
}
